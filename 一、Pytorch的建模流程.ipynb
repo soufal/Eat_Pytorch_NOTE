{
 "cells": [
  {
   "cell_type": "markdown",
   "metadata": {},
   "source": [
    "### 一、Pytorch的建模流程\n",
    "使用Pytorch实现神经网络模型的一般流程包括：\n",
    "\n",
    "1，准备数据\n",
    "\n",
    "2，定义模型\n",
    "\n",
    "3，训练模型\n",
    "\n",
    "4，评估模型\n",
    "\n",
    "5，使用模型\n",
    "\n",
    "6，保存模型。\n",
    "\n",
    "\n",
    "* 结构化数据：Titanic生存预测\n",
    "* 图像数据：Cifar图片分类\n",
    "* 文本数据：imdb电影评论分类问题\n",
    "* 时间序列数据：国内新冠疫情结束时间预测问题为例"
   ]
  },
  {
   "cell_type": "markdown",
   "metadata": {},
   "source": [
    "#### 1-1 结构化数据建模流程范例"
   ]
  },
  {
   "cell_type": "code",
   "execution_count": 1,
   "metadata": {},
   "outputs": [],
   "source": [
    "import os\n",
    "import datetime\n",
    "\n",
    "# 打印时间\n",
    "def printbar():\n",
    "    nowtime = datetime.datetime.now().strftime('%Y-%m-%d %H:%M:%S')\n",
    "    print(\"\\n\"+\"==========\"*8 + \"%s\"%nowtime)"
   ]
  },
  {
   "cell_type": "markdown",
   "metadata": {},
   "source": [
    "### 一、准备数据\n",
    "Titanic数据集的目标是根据乘客信息预测他们在Titanic号撞击冰山沉没后能否生存。"
   ]
  },
  {
   "cell_type": "code",
   "execution_count": 2,
   "metadata": {},
   "outputs": [
    {
     "data": {
      "text/html": [
       "<div>\n",
       "<style scoped>\n",
       "    .dataframe tbody tr th:only-of-type {\n",
       "        vertical-align: middle;\n",
       "    }\n",
       "\n",
       "    .dataframe tbody tr th {\n",
       "        vertical-align: top;\n",
       "    }\n",
       "\n",
       "    .dataframe thead th {\n",
       "        text-align: right;\n",
       "    }\n",
       "</style>\n",
       "<table border=\"1\" class=\"dataframe\">\n",
       "  <thead>\n",
       "    <tr style=\"text-align: right;\">\n",
       "      <th></th>\n",
       "      <th>PassengerId</th>\n",
       "      <th>Survived</th>\n",
       "      <th>Pclass</th>\n",
       "      <th>Name</th>\n",
       "      <th>Sex</th>\n",
       "      <th>Age</th>\n",
       "      <th>SibSp</th>\n",
       "      <th>Parch</th>\n",
       "      <th>Ticket</th>\n",
       "      <th>Fare</th>\n",
       "      <th>Cabin</th>\n",
       "      <th>Embarked</th>\n",
       "    </tr>\n",
       "  </thead>\n",
       "  <tbody>\n",
       "    <tr>\n",
       "      <th>0</th>\n",
       "      <td>493</td>\n",
       "      <td>0</td>\n",
       "      <td>1</td>\n",
       "      <td>Molson, Mr. Harry Markland</td>\n",
       "      <td>male</td>\n",
       "      <td>55.0</td>\n",
       "      <td>0</td>\n",
       "      <td>0</td>\n",
       "      <td>113787</td>\n",
       "      <td>30.5000</td>\n",
       "      <td>C30</td>\n",
       "      <td>S</td>\n",
       "    </tr>\n",
       "    <tr>\n",
       "      <th>1</th>\n",
       "      <td>53</td>\n",
       "      <td>1</td>\n",
       "      <td>1</td>\n",
       "      <td>Harper, Mrs. Henry Sleeper (Myna Haxtun)</td>\n",
       "      <td>female</td>\n",
       "      <td>49.0</td>\n",
       "      <td>1</td>\n",
       "      <td>0</td>\n",
       "      <td>PC 17572</td>\n",
       "      <td>76.7292</td>\n",
       "      <td>D33</td>\n",
       "      <td>C</td>\n",
       "    </tr>\n",
       "    <tr>\n",
       "      <th>2</th>\n",
       "      <td>388</td>\n",
       "      <td>1</td>\n",
       "      <td>2</td>\n",
       "      <td>Buss, Miss. Kate</td>\n",
       "      <td>female</td>\n",
       "      <td>36.0</td>\n",
       "      <td>0</td>\n",
       "      <td>0</td>\n",
       "      <td>27849</td>\n",
       "      <td>13.0000</td>\n",
       "      <td>NaN</td>\n",
       "      <td>S</td>\n",
       "    </tr>\n",
       "    <tr>\n",
       "      <th>3</th>\n",
       "      <td>192</td>\n",
       "      <td>0</td>\n",
       "      <td>2</td>\n",
       "      <td>Carbines, Mr. William</td>\n",
       "      <td>male</td>\n",
       "      <td>19.0</td>\n",
       "      <td>0</td>\n",
       "      <td>0</td>\n",
       "      <td>28424</td>\n",
       "      <td>13.0000</td>\n",
       "      <td>NaN</td>\n",
       "      <td>S</td>\n",
       "    </tr>\n",
       "    <tr>\n",
       "      <th>4</th>\n",
       "      <td>687</td>\n",
       "      <td>0</td>\n",
       "      <td>3</td>\n",
       "      <td>Panula, Mr. Jaako Arnold</td>\n",
       "      <td>male</td>\n",
       "      <td>14.0</td>\n",
       "      <td>4</td>\n",
       "      <td>1</td>\n",
       "      <td>3101295</td>\n",
       "      <td>39.6875</td>\n",
       "      <td>NaN</td>\n",
       "      <td>S</td>\n",
       "    </tr>\n",
       "    <tr>\n",
       "      <th>5</th>\n",
       "      <td>16</td>\n",
       "      <td>1</td>\n",
       "      <td>2</td>\n",
       "      <td>Hewlett, Mrs. (Mary D Kingcome)</td>\n",
       "      <td>female</td>\n",
       "      <td>55.0</td>\n",
       "      <td>0</td>\n",
       "      <td>0</td>\n",
       "      <td>248706</td>\n",
       "      <td>16.0000</td>\n",
       "      <td>NaN</td>\n",
       "      <td>S</td>\n",
       "    </tr>\n",
       "    <tr>\n",
       "      <th>6</th>\n",
       "      <td>228</td>\n",
       "      <td>0</td>\n",
       "      <td>3</td>\n",
       "      <td>Lovell, Mr. John Hall (\"Henry\")</td>\n",
       "      <td>male</td>\n",
       "      <td>20.5</td>\n",
       "      <td>0</td>\n",
       "      <td>0</td>\n",
       "      <td>A/5 21173</td>\n",
       "      <td>7.2500</td>\n",
       "      <td>NaN</td>\n",
       "      <td>S</td>\n",
       "    </tr>\n",
       "    <tr>\n",
       "      <th>7</th>\n",
       "      <td>884</td>\n",
       "      <td>0</td>\n",
       "      <td>2</td>\n",
       "      <td>Banfield, Mr. Frederick James</td>\n",
       "      <td>male</td>\n",
       "      <td>28.0</td>\n",
       "      <td>0</td>\n",
       "      <td>0</td>\n",
       "      <td>C.A./SOTON 34068</td>\n",
       "      <td>10.5000</td>\n",
       "      <td>NaN</td>\n",
       "      <td>S</td>\n",
       "    </tr>\n",
       "    <tr>\n",
       "      <th>8</th>\n",
       "      <td>168</td>\n",
       "      <td>0</td>\n",
       "      <td>3</td>\n",
       "      <td>Skoog, Mrs. William (Anna Bernhardina Karlsson)</td>\n",
       "      <td>female</td>\n",
       "      <td>45.0</td>\n",
       "      <td>1</td>\n",
       "      <td>4</td>\n",
       "      <td>347088</td>\n",
       "      <td>27.9000</td>\n",
       "      <td>NaN</td>\n",
       "      <td>S</td>\n",
       "    </tr>\n",
       "    <tr>\n",
       "      <th>9</th>\n",
       "      <td>752</td>\n",
       "      <td>1</td>\n",
       "      <td>3</td>\n",
       "      <td>Moor, Master. Meier</td>\n",
       "      <td>male</td>\n",
       "      <td>6.0</td>\n",
       "      <td>0</td>\n",
       "      <td>1</td>\n",
       "      <td>392096</td>\n",
       "      <td>12.4750</td>\n",
       "      <td>E121</td>\n",
       "      <td>S</td>\n",
       "    </tr>\n",
       "  </tbody>\n",
       "</table>\n",
       "</div>"
      ],
      "text/plain": [
       "   PassengerId  Survived  Pclass  \\\n",
       "0          493         0       1   \n",
       "1           53         1       1   \n",
       "2          388         1       2   \n",
       "3          192         0       2   \n",
       "4          687         0       3   \n",
       "5           16         1       2   \n",
       "6          228         0       3   \n",
       "7          884         0       2   \n",
       "8          168         0       3   \n",
       "9          752         1       3   \n",
       "\n",
       "                                              Name     Sex   Age  SibSp  \\\n",
       "0                       Molson, Mr. Harry Markland    male  55.0      0   \n",
       "1         Harper, Mrs. Henry Sleeper (Myna Haxtun)  female  49.0      1   \n",
       "2                                 Buss, Miss. Kate  female  36.0      0   \n",
       "3                            Carbines, Mr. William    male  19.0      0   \n",
       "4                         Panula, Mr. Jaako Arnold    male  14.0      4   \n",
       "5                 Hewlett, Mrs. (Mary D Kingcome)   female  55.0      0   \n",
       "6                  Lovell, Mr. John Hall (\"Henry\")    male  20.5      0   \n",
       "7                    Banfield, Mr. Frederick James    male  28.0      0   \n",
       "8  Skoog, Mrs. William (Anna Bernhardina Karlsson)  female  45.0      1   \n",
       "9                              Moor, Master. Meier    male   6.0      0   \n",
       "\n",
       "   Parch            Ticket     Fare Cabin Embarked  \n",
       "0      0            113787  30.5000   C30        S  \n",
       "1      0          PC 17572  76.7292   D33        C  \n",
       "2      0             27849  13.0000   NaN        S  \n",
       "3      0             28424  13.0000   NaN        S  \n",
       "4      1           3101295  39.6875   NaN        S  \n",
       "5      0            248706  16.0000   NaN        S  \n",
       "6      0         A/5 21173   7.2500   NaN        S  \n",
       "7      0  C.A./SOTON 34068  10.5000   NaN        S  \n",
       "8      4            347088  27.9000   NaN        S  \n",
       "9      1            392096  12.4750  E121        S  "
      ]
     },
     "execution_count": 2,
     "metadata": {},
     "output_type": "execute_result"
    }
   ],
   "source": [
    "import numpy as np\n",
    "import pandas as pd\n",
    "import matplotlib.pyplot as plt\n",
    "import torch\n",
    "from torch import nn\n",
    "from torch.utils.data import Dataset, DataLoader, TensorDataset\n",
    "\n",
    "df_train_raw = pd.read_csv('./data/titanic/train.csv')\n",
    "df_test_raw = pd.read_csv('./data/titanic/test.csv')\n",
    "\n",
    "df_train_raw.head(10)"
   ]
  },
  {
   "cell_type": "markdown",
   "metadata": {},
   "source": [
    "#### 字段说明：\n",
    "* `PassengerId`：乘客ID；\n",
    "* `Survived`：0代表死亡，1代表存活（y标签）；\n",
    "* `Pclass`：乘客所持票类，（1,2,3）----【转换为onehot编码】；\n",
    "* `Name`：乘客名字（可不用）；\n",
    "* `Sex`:乘客性别-----【转换为bool特征】；\n",
    "* `Age`：乘客年龄（有缺失-----【数值特征，并添加“年龄是否缺失”作为辅助特征】；\n",
    "* `SibSp`：乘客兄弟姐妹/配偶的个数（整数值）----【数值特征】；\n",
    "* `Parch`：乘客父母/孩子的个数（整数值）----【数值特征】；\n",
    "* `Ticket`：票号（可不用）；\n",
    "* `Fare`：乘客所持票的价格（浮点数，0-500不等）【数值特征】；\n",
    "* `Cabin`：乘客所在船舱（有缺失）----【添加“所在船舱是否缺失”作为辅助特征】\n",
    "* `Embarked`：乘客登船港口：S、C、Q（有缺失）----【转换为onehot编码，四维度S，C，Q,nan】\n",
    "\n",
    "利用`Pandas`数据可视化进行探索性数据分析EDA(Exploratory Data Analysis)。\n"
   ]
  },
  {
   "cell_type": "code",
   "execution_count": 4,
   "metadata": {},
   "outputs": [
    {
     "data": {
      "image/png": "[encoded data removed]",
      "text/plain": [
       "<Figure size 864x576 with 1 Axes>"
      ]
     },
     "metadata": {
      "needs_background": "light"
     },
     "output_type": "display_data"
    }
   ],
   "source": [
    "#label分布情况\n",
    "%matplotlib inline\n",
    "%config InlineBackend.figure_format = 'png'\n",
    "\n",
    "# 对训练数据存活情况进行值统计，并可视化，查看乘客存活状态\n",
    "\n",
    "ax = df_train_raw['Survived'].value_counts().plot(kind='bar', figsize=(12,8), fontsize=15, rot=0)\n",
    "ax.set_ylabel('Counts', fontsize=15)\n",
    "ax.set_xlabel('Survived', fontsize=15)\n",
    "plt.show()\n"
   ]
  },
  {
   "cell_type": "code",
   "execution_count": 7,
   "metadata": {},
   "outputs": [
    {
     "data": {
      "image/png": "[encoded data removed]",
      "text/plain": [
       "<Figure size 864x576 with 1 Axes>"
      ]
     },
     "metadata": {
      "needs_background": "light"
     },
     "output_type": "display_data"
    }
   ],
   "source": [
    "# 年龄分布情况\n",
    "\n",
    "%matplotlib inline\n",
    "%config InlineBackend.figure_format = 'png'\n",
    "\n",
    "ax = df_train_raw['Age'].plot(kind='hist', bins=20,color='purple',figsize=(12,8), fontsize=15)\n",
    "ax.set_ylabel('Counts', fontsize=15)\n",
    "ax.set_xlabel('Age', fontsize=15)\n",
    "plt.show()\n"
   ]
  },
  {
   "cell_type": "code",
   "execution_count": 10,
   "metadata": {},
   "outputs": [
    {
     "data": {
      "image/png": "[encoded data removed]",
      "text/plain": [
       "<Figure size 864x576 with 1 Axes>"
      ]
     },
     "metadata": {
      "needs_background": "light"
     },
     "output_type": "display_data"
    }
   ],
   "source": [
    "# 年龄和label的相关性\n",
    "\n",
    "%matplotlib inline\n",
    "%config InlineBackend.figure_format = 'png'\n",
    "\n",
    "# 使用query进行查询：查询存活或者不存活的年龄分布\n",
    "ax = df_train_raw.query('Survived==0')['Age'].plot(kind='density', figsize=(12,8), fontsize=15)\n",
    "df_train_raw.query('Survived==1')['Age'].plot(kind='density', figsize=(12,8), fontsize=15)\n",
    "\n",
    "ax.legend(['Survived==0', 'Survived==1'], fontsize=12)\n",
    "ax.set_xlabel('Density', fontsize=15)\n",
    "ax.set_ylabel('Age', fontsize=15)\n",
    "plt.show()\n"
   ]
  },
  {
   "cell_type": "code",
   "execution_count": null,
   "metadata": {},
   "outputs": [],
   "source": []
  }
 ],
 "metadata": {
  "kernelspec": {
   "display_name": "AI_kernel",
   "language": "python",
   "name": "ai"
  },
  "language_info": {
   "codemirror_mode": {
    "name": "ipython",
    "version": 3
   },
   "file_extension": ".py",
   "mimetype": "text/x-python",
   "name": "python",
   "nbconvert_exporter": "python",
   "pygments_lexer": "ipython3",
   "version": "3.7.9"
  }
 },
 "nbformat": 4,
 "nbformat_minor": 2
}
